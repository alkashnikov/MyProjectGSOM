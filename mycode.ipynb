{
 "cells": [
  {
   "cell_type": "code",
   "execution_count": 1,
   "id": "efe721fa-8319-405b-be83-916ddccc1f4c",
   "metadata": {
    "tags": []
   },
   "outputs": [
    {
     "name": "stdout",
     "output_type": "stream",
     "text": [
      "The Zen of Python, by Tim Peters\n",
      "\n",
      "Beautiful is better than ugly.\n",
      "Explicit is better than implicit.\n",
      "Simple is better than complex.\n",
      "Complex is better than complicated.\n",
      "Flat is better than nested.\n",
      "Sparse is better than dense.\n",
      "Readability counts.\n",
      "Special cases aren't special enough to break the rules.\n",
      "Although practicality beats purity.\n",
      "Errors should never pass silently.\n",
      "Unless explicitly silenced.\n",
      "In the face of ambiguity, refuse the temptation to guess.\n",
      "There should be one-- and preferably only one --obvious way to do it.\n",
      "Although that way may not be obvious at first unless you're Dutch.\n",
      "Now is better than never.\n",
      "Although never is often better than *right* now.\n",
      "If the implementation is hard to explain, it's a bad idea.\n",
      "If the implementation is easy to explain, it may be a good idea.\n",
      "Namespaces are one honking great idea -- let's do more of those!\n"
     ]
    }
   ],
   "source": [
    "import this"
   ]
  },
  {
   "cell_type": "code",
   "execution_count": 31,
   "id": "d2ed4c5c-88bb-45d9-9518-911e5d99e35a",
   "metadata": {
    "tags": []
   },
   "outputs": [],
   "source": [
    "day = 1\n",
    "speed = 90.5\n",
    "month = \"September\"\n",
    "booolean = 5>1"
   ]
  },
  {
   "cell_type": "code",
   "execution_count": 32,
   "id": "c5910f22-ec4c-4434-895f-23ebd6cff0e5",
   "metadata": {
    "tags": []
   },
   "outputs": [
    {
     "name": "stdout",
     "output_type": "stream",
     "text": [
      "1 90.5 September True\n"
     ]
    }
   ],
   "source": [
    "print(day,speed,month,booolean)"
   ]
  },
  {
   "cell_type": "code",
   "execution_count": 6,
   "id": "ec06cf3c-ed20-4a4f-81cc-5816f3e7db97",
   "metadata": {
    "tags": []
   },
   "outputs": [
    {
     "name": "stdin",
     "output_type": "stream",
     "text": [
      "Type an F1 team:  McLaren\n",
      "Type an F1 driver:  Lando Norris\n"
     ]
    }
   ],
   "source": [
    "team = input(\"Type an F1 team: \")\n",
    "driver = input (\"Type an F1 driver: \")"
   ]
  },
  {
   "cell_type": "code",
   "execution_count": 7,
   "id": "32bc02c9-ceb9-4d8d-9334-01ab1e366fe0",
   "metadata": {
    "tags": []
   },
   "outputs": [],
   "source": [
    "multiline_str = \"\"\"Dasha\n",
    "Dasha\n",
    "Dasha\n",
    "Dasha\n",
    "Dasha\"\"\""
   ]
  },
  {
   "cell_type": "code",
   "execution_count": 8,
   "id": "0596edbc-7c8d-4894-8cb7-acce75cc9b4b",
   "metadata": {
    "tags": []
   },
   "outputs": [
    {
     "name": "stdout",
     "output_type": "stream",
     "text": [
      "Dasha\n",
      "Dasha\n",
      "Dasha\n",
      "Dasha\n",
      "Dasha\n"
     ]
    }
   ],
   "source": [
    "print(multiline_str)"
   ]
  },
  {
   "cell_type": "code",
   "execution_count": 9,
   "id": "93323d39-c662-4305-b603-64981075d95f",
   "metadata": {
    "tags": []
   },
   "outputs": [],
   "source": [
    "odd = (1,3,5,7,9) #tuple\n",
    "drivers = [\"CharlesLeclerc\", \"MaxVerstappen\", \"LandoNorris\", \"LewisHamilton\"] #list"
   ]
  },
  {
   "cell_type": "code",
   "execution_count": 10,
   "id": "44989467-68de-4c4b-beb4-65e2743f995b",
   "metadata": {
    "tags": []
   },
   "outputs": [
    {
     "name": "stdout",
     "output_type": "stream",
     "text": [
      "(1, 3, 5, 7, 9)\n",
      "['CharlesLeclerc', 'MaxVerstappen', 'LandoNorris', 'LewisHamilton']\n"
     ]
    }
   ],
   "source": [
    "print(odd)\n",
    "print(drivers)"
   ]
  },
  {
   "cell_type": "code",
   "execution_count": 11,
   "id": "8f76c241-91d8-44e7-8b7e-dca98c617116",
   "metadata": {
    "tags": []
   },
   "outputs": [],
   "source": [
    "drivers.append(\"CarlosSainz\")"
   ]
  },
  {
   "cell_type": "code",
   "execution_count": 14,
   "id": "fd73b5b1-e387-495f-8c75-71d09751d457",
   "metadata": {
    "tags": []
   },
   "outputs": [
    {
     "name": "stdout",
     "output_type": "stream",
     "text": [
      "['CharlesLeclerc', 'MaxVerstappen', 'LandoNorris', 'LewisHamilton', 'CarlosSainz']\n"
     ]
    }
   ],
   "source": [
    "print(drivers)\n"
   ]
  },
  {
   "cell_type": "code",
   "execution_count": 15,
   "id": "dc64bc74-0ca2-49c8-a7f1-d7addcb097eb",
   "metadata": {
    "tags": []
   },
   "outputs": [],
   "source": [
    "drivers.remove(\"MaxVerstappen\")"
   ]
  },
  {
   "cell_type": "code",
   "execution_count": 16,
   "id": "09370d18-59ca-45de-a700-19863c553925",
   "metadata": {
    "tags": []
   },
   "outputs": [
    {
     "name": "stdout",
     "output_type": "stream",
     "text": [
      "['CharlesLeclerc', 'LandoNorris', 'LewisHamilton', 'CarlosSainz']\n"
     ]
    }
   ],
   "source": [
    "print(drivers)"
   ]
  },
  {
   "cell_type": "code",
   "execution_count": 18,
   "id": "e03c26fc-31f9-4451-a6e0-ef07da04fcdd",
   "metadata": {
    "tags": []
   },
   "outputs": [
    {
     "name": "stdin",
     "output_type": "stream",
     "text": [
      "Enter the 1st number:  2\n",
      "Enter the 2nd number:  4\n",
      "Enter the 3rd number:  6\n"
     ]
    },
    {
     "name": "stdout",
     "output_type": "stream",
     "text": [
      "I mulptiplied them and the result is:  48\n"
     ]
    }
   ],
   "source": [
    "x = int(input('Enter the 1st number: '))\n",
    "y = int(input('Enter the 2nd number: '))\n",
    "z = int(input('Enter the 3rd number: '))\n",
    "print(\"I mulptiplied them and the result is: \", x*y*z)"
   ]
  },
  {
   "cell_type": "code",
   "execution_count": 23,
   "id": "7bae4e98-17dc-4e44-a442-4c27d9278712",
   "metadata": {
    "tags": []
   },
   "outputs": [
    {
     "name": "stdin",
     "output_type": "stream",
     "text": [
      "Enter your name:  Dasha\n",
      "Enter your birth year:  2002\n"
     ]
    },
    {
     "name": "stdout",
     "output_type": "stream",
     "text": [
      "My name is Dasha  and I'm 22  years old\n"
     ]
    }
   ],
   "source": [
    "name = str(input('Enter your name: '))\n",
    "age = 2024 - int(input('Enter your birth year: '))\n",
    "print(\"My name is\",name,\" and I'm\", age, \" years old\")"
   ]
  },
  {
   "cell_type": "code",
   "execution_count": 30,
   "id": "14da759f-fc8a-4df9-a544-be49b1a45507",
   "metadata": {
    "tags": []
   },
   "outputs": [
    {
     "name": "stdout",
     "output_type": "stream",
     "text": [
      "gravity force is 980.0000000000001  and potential energy is 9800.000000000002\n"
     ]
    }
   ],
   "source": [
    "m = 100\n",
    "g = 9.8\n",
    "h = 10\n",
    "gravity_force = m*g\n",
    "potential_energy = m*g*h\n",
    "\n",
    "print(\"gravity force is\", gravity_force,\" and potential energy is\", potential_energy)"
   ]
  }
 ],
 "metadata": {
  "kernelspec": {
   "display_name": "Python 3 (ipykernel)",
   "language": "python",
   "name": "python3"
  },
  "language_info": {
   "codemirror_mode": {
    "name": "ipython",
    "version": 3
   },
   "file_extension": ".py",
   "mimetype": "text/x-python",
   "name": "python",
   "nbconvert_exporter": "python",
   "pygments_lexer": "ipython3",
   "version": "3.10.9"
  }
 },
 "nbformat": 4,
 "nbformat_minor": 5
}
